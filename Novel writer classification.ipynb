{
 "cells": [
  {
   "cell_type": "code",
   "execution_count": 2,
   "metadata": {},
   "outputs": [],
   "source": [
    "import pandas as pd\n",
    "import warnings \n",
    "warnings.filterwarnings(action='ignore')\n",
    "import numpy as np\n",
    "import tensorflow as tf\n",
    "from tensorflow.keras.preprocessing.sequence import pad_sequences\n",
    "from tensorflow.keras.preprocessing.text import Tokenizer\n",
    "import re"
   ]
  },
  {
   "cell_type": "code",
   "execution_count": 5,
   "metadata": {},
   "outputs": [],
   "source": [
    "train = pd.read_csv('train.csv', encoding = 'utf-8')\n",
    "test = pd.read_csv('test_x.csv', encoding = 'utf-8')\n",
    "sample_submission = pd.read_csv('sample_submission.csv', encoding = 'utf-8')"
   ]
  },
  {
   "cell_type": "code",
   "execution_count": 6,
   "metadata": {},
   "outputs": [
    {
     "data": {
      "text/html": [
       "<div>\n",
       "<style scoped>\n",
       "    .dataframe tbody tr th:only-of-type {\n",
       "        vertical-align: middle;\n",
       "    }\n",
       "\n",
       "    .dataframe tbody tr th {\n",
       "        vertical-align: top;\n",
       "    }\n",
       "\n",
       "    .dataframe thead th {\n",
       "        text-align: right;\n",
       "    }\n",
       "</style>\n",
       "<table border=\"1\" class=\"dataframe\">\n",
       "  <thead>\n",
       "    <tr style=\"text-align: right;\">\n",
       "      <th></th>\n",
       "      <th>index</th>\n",
       "      <th>text</th>\n",
       "      <th>author</th>\n",
       "    </tr>\n",
       "  </thead>\n",
       "  <tbody>\n",
       "    <tr>\n",
       "      <th>0</th>\n",
       "      <td>0</td>\n",
       "      <td>He was almost choking. There was so much, so m...</td>\n",
       "      <td>3</td>\n",
       "    </tr>\n",
       "    <tr>\n",
       "      <th>1</th>\n",
       "      <td>1</td>\n",
       "      <td>“Your sister asked for it, I suppose?”</td>\n",
       "      <td>2</td>\n",
       "    </tr>\n",
       "    <tr>\n",
       "      <th>2</th>\n",
       "      <td>2</td>\n",
       "      <td>She was engaged one day as she walked, in per...</td>\n",
       "      <td>1</td>\n",
       "    </tr>\n",
       "    <tr>\n",
       "      <th>3</th>\n",
       "      <td>3</td>\n",
       "      <td>The captain was in the porch, keeping himself ...</td>\n",
       "      <td>4</td>\n",
       "    </tr>\n",
       "    <tr>\n",
       "      <th>4</th>\n",
       "      <td>4</td>\n",
       "      <td>“Have mercy, gentlemen!” odin flung up his han...</td>\n",
       "      <td>3</td>\n",
       "    </tr>\n",
       "    <tr>\n",
       "      <th>...</th>\n",
       "      <td>...</td>\n",
       "      <td>...</td>\n",
       "      <td>...</td>\n",
       "    </tr>\n",
       "    <tr>\n",
       "      <th>54874</th>\n",
       "      <td>54874</td>\n",
       "      <td>“Is that you, Mr. Smith?” odin whispered. “I h...</td>\n",
       "      <td>2</td>\n",
       "    </tr>\n",
       "    <tr>\n",
       "      <th>54875</th>\n",
       "      <td>54875</td>\n",
       "      <td>I told my plan to the captain, and between us ...</td>\n",
       "      <td>4</td>\n",
       "    </tr>\n",
       "    <tr>\n",
       "      <th>54876</th>\n",
       "      <td>54876</td>\n",
       "      <td>\"Your sincere well-wisher, friend, and sister...</td>\n",
       "      <td>1</td>\n",
       "    </tr>\n",
       "    <tr>\n",
       "      <th>54877</th>\n",
       "      <td>54877</td>\n",
       "      <td>“Then you wanted me to lend you money?”</td>\n",
       "      <td>3</td>\n",
       "    </tr>\n",
       "    <tr>\n",
       "      <th>54878</th>\n",
       "      <td>54878</td>\n",
       "      <td>It certainly had not occurred to me before, bu...</td>\n",
       "      <td>0</td>\n",
       "    </tr>\n",
       "  </tbody>\n",
       "</table>\n",
       "<p>54879 rows × 3 columns</p>\n",
       "</div>"
      ],
      "text/plain": [
       "       index                                               text  author\n",
       "0          0  He was almost choking. There was so much, so m...       3\n",
       "1          1             “Your sister asked for it, I suppose?”       2\n",
       "2          2   She was engaged one day as she walked, in per...       1\n",
       "3          3  The captain was in the porch, keeping himself ...       4\n",
       "4          4  “Have mercy, gentlemen!” odin flung up his han...       3\n",
       "...      ...                                                ...     ...\n",
       "54874  54874  “Is that you, Mr. Smith?” odin whispered. “I h...       2\n",
       "54875  54875  I told my plan to the captain, and between us ...       4\n",
       "54876  54876   \"Your sincere well-wisher, friend, and sister...       1\n",
       "54877  54877            “Then you wanted me to lend you money?”       3\n",
       "54878  54878  It certainly had not occurred to me before, bu...       0\n",
       "\n",
       "[54879 rows x 3 columns]"
      ]
     },
     "execution_count": 6,
     "metadata": {},
     "output_type": "execute_result"
    }
   ],
   "source": [
    "train"
   ]
  },
  {
   "cell_type": "code",
   "execution_count": 7,
   "metadata": {},
   "outputs": [
    {
     "data": {
      "text/html": [
       "<div>\n",
       "<style scoped>\n",
       "    .dataframe tbody tr th:only-of-type {\n",
       "        vertical-align: middle;\n",
       "    }\n",
       "\n",
       "    .dataframe tbody tr th {\n",
       "        vertical-align: top;\n",
       "    }\n",
       "\n",
       "    .dataframe thead th {\n",
       "        text-align: right;\n",
       "    }\n",
       "</style>\n",
       "<table border=\"1\" class=\"dataframe\">\n",
       "  <thead>\n",
       "    <tr style=\"text-align: right;\">\n",
       "      <th></th>\n",
       "      <th>index</th>\n",
       "      <th>text</th>\n",
       "    </tr>\n",
       "  </thead>\n",
       "  <tbody>\n",
       "    <tr>\n",
       "      <th>0</th>\n",
       "      <td>0</td>\n",
       "      <td>“Not at all. I think she is one of the most ch...</td>\n",
       "    </tr>\n",
       "    <tr>\n",
       "      <th>1</th>\n",
       "      <td>1</td>\n",
       "      <td>\"No,\" replied he, with sudden consciousness, \"...</td>\n",
       "    </tr>\n",
       "    <tr>\n",
       "      <th>2</th>\n",
       "      <td>2</td>\n",
       "      <td>As the lady had stated her intention of scream...</td>\n",
       "    </tr>\n",
       "    <tr>\n",
       "      <th>3</th>\n",
       "      <td>3</td>\n",
       "      <td>“And then suddenly in the silence I heard a so...</td>\n",
       "    </tr>\n",
       "    <tr>\n",
       "      <th>4</th>\n",
       "      <td>4</td>\n",
       "      <td>His conviction remained unchanged. So far as I...</td>\n",
       "    </tr>\n",
       "    <tr>\n",
       "      <th>...</th>\n",
       "      <td>...</td>\n",
       "      <td>...</td>\n",
       "    </tr>\n",
       "    <tr>\n",
       "      <th>19612</th>\n",
       "      <td>19612</td>\n",
       "      <td>At the end of another day or two, odin growing...</td>\n",
       "    </tr>\n",
       "    <tr>\n",
       "      <th>19613</th>\n",
       "      <td>19613</td>\n",
       "      <td>All afternoon we sat together, mostly in silen...</td>\n",
       "    </tr>\n",
       "    <tr>\n",
       "      <th>19614</th>\n",
       "      <td>19614</td>\n",
       "      <td>odin, having carried his thanks to odin, proc...</td>\n",
       "    </tr>\n",
       "    <tr>\n",
       "      <th>19615</th>\n",
       "      <td>19615</td>\n",
       "      <td>Soon after this, upon odin's leaving the room,...</td>\n",
       "    </tr>\n",
       "    <tr>\n",
       "      <th>19616</th>\n",
       "      <td>19616</td>\n",
       "      <td>And all the worse for the doomed man, that the...</td>\n",
       "    </tr>\n",
       "  </tbody>\n",
       "</table>\n",
       "<p>19617 rows × 2 columns</p>\n",
       "</div>"
      ],
      "text/plain": [
       "       index                                               text\n",
       "0          0  “Not at all. I think she is one of the most ch...\n",
       "1          1  \"No,\" replied he, with sudden consciousness, \"...\n",
       "2          2  As the lady had stated her intention of scream...\n",
       "3          3  “And then suddenly in the silence I heard a so...\n",
       "4          4  His conviction remained unchanged. So far as I...\n",
       "...      ...                                                ...\n",
       "19612  19612  At the end of another day or two, odin growing...\n",
       "19613  19613  All afternoon we sat together, mostly in silen...\n",
       "19614  19614   odin, having carried his thanks to odin, proc...\n",
       "19615  19615  Soon after this, upon odin's leaving the room,...\n",
       "19616  19616  And all the worse for the doomed man, that the...\n",
       "\n",
       "[19617 rows x 2 columns]"
      ]
     },
     "execution_count": 7,
     "metadata": {},
     "output_type": "execute_result"
    }
   ],
   "source": [
    "test"
   ]
  },
  {
   "cell_type": "code",
   "execution_count": 9,
   "metadata": {},
   "outputs": [],
   "source": [
    "def alpha_num(text):\n",
    "    return re.sub(r'[^A-Za-z0-9 ]', '', text)\n",
    "\n",
    "train['text']=train['text'].apply(alpha_num)"
   ]
  },
  {
   "cell_type": "code",
   "execution_count": 10,
   "metadata": {},
   "outputs": [
    {
     "data": {
      "text/html": [
       "<div>\n",
       "<style scoped>\n",
       "    .dataframe tbody tr th:only-of-type {\n",
       "        vertical-align: middle;\n",
       "    }\n",
       "\n",
       "    .dataframe tbody tr th {\n",
       "        vertical-align: top;\n",
       "    }\n",
       "\n",
       "    .dataframe thead th {\n",
       "        text-align: right;\n",
       "    }\n",
       "</style>\n",
       "<table border=\"1\" class=\"dataframe\">\n",
       "  <thead>\n",
       "    <tr style=\"text-align: right;\">\n",
       "      <th></th>\n",
       "      <th>index</th>\n",
       "      <th>text</th>\n",
       "      <th>author</th>\n",
       "    </tr>\n",
       "  </thead>\n",
       "  <tbody>\n",
       "    <tr>\n",
       "      <th>0</th>\n",
       "      <td>0</td>\n",
       "      <td>He was almost choking There was so much so muc...</td>\n",
       "      <td>3</td>\n",
       "    </tr>\n",
       "    <tr>\n",
       "      <th>1</th>\n",
       "      <td>1</td>\n",
       "      <td>Your sister asked for it I suppose</td>\n",
       "      <td>2</td>\n",
       "    </tr>\n",
       "    <tr>\n",
       "      <th>2</th>\n",
       "      <td>2</td>\n",
       "      <td>She was engaged one day as she walked in peru...</td>\n",
       "      <td>1</td>\n",
       "    </tr>\n",
       "    <tr>\n",
       "      <th>3</th>\n",
       "      <td>3</td>\n",
       "      <td>The captain was in the porch keeping himself c...</td>\n",
       "      <td>4</td>\n",
       "    </tr>\n",
       "    <tr>\n",
       "      <th>4</th>\n",
       "      <td>4</td>\n",
       "      <td>Have mercy gentlemen odin flung up his hands D...</td>\n",
       "      <td>3</td>\n",
       "    </tr>\n",
       "    <tr>\n",
       "      <th>...</th>\n",
       "      <td>...</td>\n",
       "      <td>...</td>\n",
       "      <td>...</td>\n",
       "    </tr>\n",
       "    <tr>\n",
       "      <th>54874</th>\n",
       "      <td>54874</td>\n",
       "      <td>Is that you Mr Smith odin whispered I hardly d...</td>\n",
       "      <td>2</td>\n",
       "    </tr>\n",
       "    <tr>\n",
       "      <th>54875</th>\n",
       "      <td>54875</td>\n",
       "      <td>I told my plan to the captain and between us w...</td>\n",
       "      <td>4</td>\n",
       "    </tr>\n",
       "    <tr>\n",
       "      <th>54876</th>\n",
       "      <td>54876</td>\n",
       "      <td>Your sincere wellwisher friend and sister LUC...</td>\n",
       "      <td>1</td>\n",
       "    </tr>\n",
       "    <tr>\n",
       "      <th>54877</th>\n",
       "      <td>54877</td>\n",
       "      <td>Then you wanted me to lend you money</td>\n",
       "      <td>3</td>\n",
       "    </tr>\n",
       "    <tr>\n",
       "      <th>54878</th>\n",
       "      <td>54878</td>\n",
       "      <td>It certainly had not occurred to me before but...</td>\n",
       "      <td>0</td>\n",
       "    </tr>\n",
       "  </tbody>\n",
       "</table>\n",
       "<p>54879 rows × 3 columns</p>\n",
       "</div>"
      ],
      "text/plain": [
       "       index                                               text  author\n",
       "0          0  He was almost choking There was so much so muc...       3\n",
       "1          1                 Your sister asked for it I suppose       2\n",
       "2          2   She was engaged one day as she walked in peru...       1\n",
       "3          3  The captain was in the porch keeping himself c...       4\n",
       "4          4  Have mercy gentlemen odin flung up his hands D...       3\n",
       "...      ...                                                ...     ...\n",
       "54874  54874  Is that you Mr Smith odin whispered I hardly d...       2\n",
       "54875  54875  I told my plan to the captain and between us w...       4\n",
       "54876  54876   Your sincere wellwisher friend and sister LUC...       1\n",
       "54877  54877               Then you wanted me to lend you money       3\n",
       "54878  54878  It certainly had not occurred to me before but...       0\n",
       "\n",
       "[54879 rows x 3 columns]"
      ]
     },
     "execution_count": 10,
     "metadata": {},
     "output_type": "execute_result"
    }
   ],
   "source": [
    "train"
   ]
  },
  {
   "cell_type": "code",
   "execution_count": 11,
   "metadata": {},
   "outputs": [],
   "source": [
    "def remove_stopwords(text):\n",
    "    final_text = []\n",
    "    for i in text.split():\n",
    "        if i.strip().lower() not in stopwords:\n",
    "            final_text.append(i.strip())\n",
    "    return \" \".join(final_text)"
   ]
  },
  {
   "cell_type": "code",
   "execution_count": 12,
   "metadata": {},
   "outputs": [],
   "source": [
    "stopwords = [ \"a\", \"about\", \"above\", \"after\", \"again\", \"against\", \"all\", \"am\", \"an\", \"and\", \"any\", \"are\", \"as\", \n",
    "             \"at\", \"be\", \"because\", \"been\", \"before\", \"being\", \"below\", \"between\", \"both\", \"but\", \"by\", \"could\", \n",
    "             \"did\", \"do\", \"does\", \"doing\", \"down\", \"during\", \"each\", \"few\", \"for\", \"from\", \"further\", \"had\", \"has\", \n",
    "             \"have\", \"having\", \"he\", \"he'd\", \"he'll\", \"he's\", \"her\", \"here\", \"here's\", \"hers\", \"herself\", \"him\", \"himself\", \n",
    "             \"his\", \"how\", \"how's\", \"i\", \"i'd\", \"i'll\", \"i'm\", \"i've\", \"if\", \"in\", \"into\", \"is\", \"it\", \"it's\", \"its\", \"itself\", \n",
    "             \"let's\", \"me\", \"more\", \"most\", \"my\", \"myself\", \"nor\", \"of\", \"on\", \"once\", \"only\", \"or\", \"other\", \"ought\", \"our\", \"ours\", \n",
    "             \"ourselves\", \"out\", \"over\", \"own\", \"same\", \"she\", \"she'd\", \"she'll\", \"she's\", \"should\", \"so\", \"some\", \"such\", \"than\", \"that\", \n",
    "             \"that's\", \"the\", \"their\", \"theirs\", \"them\", \"themselves\", \"then\", \"there\", \"there's\", \"these\", \"they\", \"they'd\", \"they'll\", \n",
    "             \"they're\", \"they've\", \"this\", \"those\", \"through\", \"to\", \"too\", \"under\", \"until\", \"up\", \"very\", \"was\", \"we\", \"we'd\", \"we'll\", \n",
    "             \"we're\", \"we've\", \"were\", \"what\", \"what's\", \"when\", \"when's\", \"where\", \"where's\", \"which\", \"while\", \"who\", \"who's\", \"whom\", \n",
    "             \"why\", \"why's\", \"with\", \"would\", \"you\", \"you'd\", \"you'll\", \"you're\", \"you've\", \"your\", \"yours\", \"yourself\", \"yourselves\" ]"
   ]
  },
  {
   "cell_type": "code",
   "execution_count": 13,
   "metadata": {},
   "outputs": [],
   "source": [
    "train['text'] = train['text'].str.lower()\n",
    "test['text'] = test['text'].str.lower()\n",
    "train['text'] = train['text'].apply(alpha_num).apply(remove_stopwords)\n",
    "test['text'] = test['text'].apply(alpha_num).apply(remove_stopwords)"
   ]
  },
  {
   "cell_type": "code",
   "execution_count": 14,
   "metadata": {},
   "outputs": [],
   "source": [
    "X_train = np.array([x for x in train['text']])\n",
    "X_test = np.array([x for x in test['text']])\n",
    "y_train = np.array([x for x in train['author']])"
   ]
  },
  {
   "cell_type": "code",
   "execution_count": 15,
   "metadata": {},
   "outputs": [
    {
     "data": {
      "text/plain": [
       "array(['almost choking much much wanted say strange exclamations came lips pole gazed fixedly bundle notes hand looked odin evident perplexity',\n",
       "       'sister asked suppose',\n",
       "       'engaged one day walked perusing janes last letter dwelling passages proved jane not written spirits instead surprised mr odin saw looking odin meeting putting away letter immediately forcing smile said',\n",
       "       ..., 'sincere wellwisher friend sister lucy odin',\n",
       "       'wanted lend money', 'certainly not occurred said yes like'],\n",
       "      dtype='<U1433')"
      ]
     },
     "execution_count": 15,
     "metadata": {},
     "output_type": "execute_result"
    }
   ],
   "source": [
    "X_train"
   ]
  },
  {
   "cell_type": "code",
   "execution_count": 16,
   "metadata": {},
   "outputs": [],
   "source": [
    "vocab_size = 20000\n",
    "embedding_dim = 16\n",
    "max_length = 500\n",
    "padding_type='post'"
   ]
  },
  {
   "cell_type": "code",
   "execution_count": 17,
   "metadata": {},
   "outputs": [],
   "source": [
    "tokenizer = Tokenizer(num_words = vocab_size)\n",
    "tokenizer.fit_on_texts(X_train)\n",
    "word_index = tokenizer.word_index"
   ]
  },
  {
   "cell_type": "code",
   "execution_count": 18,
   "metadata": {},
   "outputs": [],
   "source": [
    "train_sequences = tokenizer.texts_to_sequences(X_train)\n",
    "train_padded = pad_sequences(train_sequences, padding=padding_type, maxlen=max_length)\n",
    "\n",
    "test_sequences = tokenizer.texts_to_sequences(X_test)\n",
    "test_padded = pad_sequences(test_sequences, padding=padding_type, maxlen=max_length)"
   ]
  },
  {
   "cell_type": "code",
   "execution_count": 20,
   "metadata": {},
   "outputs": [],
   "source": [
    "model = tf.keras.Sequential([\n",
    "    tf.keras.layers.Embedding(vocab_size, embedding_dim, input_length=max_length),\n",
    "    tf.keras.layers.GlobalAveragePooling1D(),\n",
    "    tf.keras.layers.Dense(24, activation='relu'),\n",
    "    tf.keras.layers.Dense(5, activation='softmax')\n",
    "])"
   ]
  },
  {
   "cell_type": "code",
   "execution_count": 21,
   "metadata": {},
   "outputs": [],
   "source": [
    "model.compile(loss='sparse_categorical_crossentropy',\n",
    "              optimizer='adam',\n",
    "              metrics=['accuracy'])"
   ]
  },
  {
   "cell_type": "code",
   "execution_count": 22,
   "metadata": {},
   "outputs": [
    {
     "name": "stdout",
     "output_type": "stream",
     "text": [
      "Model: \"sequential_1\"\n",
      "_________________________________________________________________\n",
      "Layer (type)                 Output Shape              Param #   \n",
      "=================================================================\n",
      "embedding_1 (Embedding)      (None, 500, 16)           320000    \n",
      "_________________________________________________________________\n",
      "global_average_pooling1d_1 ( (None, 16)                0         \n",
      "_________________________________________________________________\n",
      "dense_2 (Dense)              (None, 24)                408       \n",
      "_________________________________________________________________\n",
      "dense_3 (Dense)              (None, 5)                 125       \n",
      "=================================================================\n",
      "Total params: 320,533\n",
      "Trainable params: 320,533\n",
      "Non-trainable params: 0\n",
      "_________________________________________________________________\n",
      "None\n"
     ]
    }
   ],
   "source": [
    "print(model.summary())"
   ]
  },
  {
   "cell_type": "code",
   "execution_count": 23,
   "metadata": {},
   "outputs": [
    {
     "name": "stdout",
     "output_type": "stream",
     "text": [
      "Epoch 1/20\n",
      "1372/1372 - 14s - loss: 1.5641 - accuracy: 0.2785 - val_loss: 1.5315 - val_accuracy: 0.2753\n",
      "Epoch 2/20\n",
      "1372/1372 - 13s - loss: 1.3507 - accuracy: 0.4478 - val_loss: 1.2112 - val_accuracy: 0.5349\n",
      "Epoch 3/20\n",
      "1372/1372 - 14s - loss: 1.1183 - accuracy: 0.5542 - val_loss: 1.0887 - val_accuracy: 0.5559\n",
      "Epoch 4/20\n",
      "1372/1372 - 14s - loss: 1.0127 - accuracy: 0.5949 - val_loss: 1.0155 - val_accuracy: 0.5965\n",
      "Epoch 5/20\n",
      "1372/1372 - 13s - loss: 0.9365 - accuracy: 0.6307 - val_loss: 0.9712 - val_accuracy: 0.6265\n",
      "Epoch 6/20\n",
      "1372/1372 - 14s - loss: 0.8719 - accuracy: 0.6625 - val_loss: 0.9599 - val_accuracy: 0.6280\n",
      "Epoch 7/20\n",
      "1372/1372 - 15s - loss: 0.8194 - accuracy: 0.6863 - val_loss: 0.9005 - val_accuracy: 0.6534\n",
      "Epoch 8/20\n",
      "1372/1372 - 12s - loss: 0.7683 - accuracy: 0.7109 - val_loss: 0.8814 - val_accuracy: 0.6653\n",
      "Epoch 9/20\n",
      "1372/1372 - 13s - loss: 0.7250 - accuracy: 0.7313 - val_loss: 0.8593 - val_accuracy: 0.6731\n",
      "Epoch 10/20\n",
      "1372/1372 - 13s - loss: 0.6829 - accuracy: 0.7486 - val_loss: 0.8406 - val_accuracy: 0.6825\n",
      "Epoch 11/20\n",
      "1372/1372 - 12s - loss: 0.6463 - accuracy: 0.7643 - val_loss: 0.8552 - val_accuracy: 0.6770\n",
      "Epoch 12/20\n",
      "1372/1372 - 12s - loss: 0.6163 - accuracy: 0.7749 - val_loss: 0.8235 - val_accuracy: 0.6907\n",
      "Epoch 13/20\n",
      "1372/1372 - 13s - loss: 0.5873 - accuracy: 0.7863 - val_loss: 0.8448 - val_accuracy: 0.6918\n",
      "Epoch 14/20\n",
      "1372/1372 - 13s - loss: 0.5602 - accuracy: 0.7962 - val_loss: 0.7887 - val_accuracy: 0.7121\n",
      "Epoch 15/20\n",
      "1372/1372 - 12s - loss: 0.5368 - accuracy: 0.8071 - val_loss: 0.7877 - val_accuracy: 0.7167\n",
      "Epoch 16/20\n",
      "1372/1372 - 12s - loss: 0.5163 - accuracy: 0.8147 - val_loss: 0.7933 - val_accuracy: 0.7167\n",
      "Epoch 17/20\n",
      "1372/1372 - 12s - loss: 0.4989 - accuracy: 0.8209 - val_loss: 0.7785 - val_accuracy: 0.7217\n",
      "Epoch 18/20\n",
      "1372/1372 - 12s - loss: 0.4801 - accuracy: 0.8273 - val_loss: 0.7832 - val_accuracy: 0.7206\n",
      "Epoch 19/20\n",
      "1372/1372 - 13s - loss: 0.4633 - accuracy: 0.8345 - val_loss: 0.7877 - val_accuracy: 0.7203\n",
      "Epoch 20/20\n",
      "1372/1372 - 13s - loss: 0.4500 - accuracy: 0.8387 - val_loss: 0.7942 - val_accuracy: 0.7198\n"
     ]
    }
   ],
   "source": [
    "num_epochs = 20\n",
    "history = model.fit(train_padded, y_train, \n",
    "                    epochs=num_epochs, verbose=2, \n",
    "                    validation_split=0.2)"
   ]
  },
  {
   "cell_type": "code",
   "execution_count": 24,
   "metadata": {},
   "outputs": [
    {
     "name": "stdout",
     "output_type": "stream",
     "text": [
      "WARNING:tensorflow:From <ipython-input-24-5af2ddf0e804>:1: Sequential.predict_proba (from tensorflow.python.keras.engine.sequential) is deprecated and will be removed after 2021-01-01.\n",
      "Instructions for updating:\n",
      "Please use `model.predict()` instead.\n"
     ]
    }
   ],
   "source": [
    "pred = model.predict_proba(test_padded)"
   ]
  },
  {
   "cell_type": "code",
   "execution_count": 25,
   "metadata": {},
   "outputs": [
    {
     "data": {
      "text/plain": [
       "array([[1.0086958e-04, 8.0063188e-01, 8.2015760e-02, 1.1723246e-01,\n",
       "        1.9026631e-05],\n",
       "       [5.0841212e-02, 7.6941323e-01, 1.2877531e-01, 3.0816132e-02,\n",
       "        2.0154128e-02],\n",
       "       [9.9604863e-01, 3.1575679e-03, 1.6486178e-08, 1.4983796e-09,\n",
       "        7.9376437e-04],\n",
       "       ...,\n",
       "       [1.1442599e-03, 9.9883682e-01, 3.0581688e-08, 1.8929579e-05,\n",
       "        4.8971195e-08],\n",
       "       [9.3174318e-04, 9.9906427e-01, 1.9963053e-07, 3.6206643e-06,\n",
       "        2.0073723e-07],\n",
       "       [9.4696075e-01, 3.7175894e-04, 4.4724575e-06, 6.1132233e-08,\n",
       "        5.2662928e-02]], dtype=float32)"
      ]
     },
     "execution_count": 25,
     "metadata": {},
     "output_type": "execute_result"
    }
   ],
   "source": [
    "pred"
   ]
  },
  {
   "cell_type": "code",
   "execution_count": null,
   "metadata": {},
   "outputs": [],
   "source": []
  }
 ],
 "metadata": {
  "kernelspec": {
   "display_name": "Python 3",
   "language": "python",
   "name": "python3"
  },
  "language_info": {
   "codemirror_mode": {
    "name": "ipython",
    "version": 3
   },
   "file_extension": ".py",
   "mimetype": "text/x-python",
   "name": "python",
   "nbconvert_exporter": "python",
   "pygments_lexer": "ipython3",
   "version": "3.7.4"
  }
 },
 "nbformat": 4,
 "nbformat_minor": 2
}
